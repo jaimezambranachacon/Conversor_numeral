{
  "cells": [
    {
      "cell_type": "markdown",
      "metadata": {
        "id": "view-in-github",
        "colab_type": "text"
      },
      "source": [
        "<a href=\"https://colab.research.google.com/github/jaimezambranachacon/Conversor_numeral/blob/master/000_S10.ipynb\" target=\"_parent\"><img src=\"https://colab.research.google.com/assets/colab-badge.svg\" alt=\"Open In Colab\"/></a>"
      ]
    },
    {
      "cell_type": "markdown",
      "metadata": {
        "id": "r824qubmPcvY"
      },
      "source": [
        "# **S10. FECHAS NUMERAL A LITERAL**\n",
        "Escriba un programa que le solicité al usuario ingresar una fecha formada por 8\n",
        "números, donde los primeros dos representan el día, los siguientes dos el mes y\n",
        "los últimos cuatro el año (DDMMAAAA). Este dato debe guardarse en una variable\n",
        "con tipo int (número entero). Finalmente, mostrar al usuario la fecha con el\n",
        "formato DD / MM / AAAA."
      ]
    },
    {
      "cell_type": "markdown",
      "metadata": {
        "id": "4B2_fkuQPcva"
      },
      "source": [
        "## **Análisis**\n"
      ]
    },
    {
      "cell_type": "markdown",
      "metadata": {
        "id": "eEHFXP5kPcvb"
      },
      "source": [
        "## **Diagrama de Flujo**\n",
        "\n",
        "![000_S10_fechas_numeral_a_literal.svg](data:image/svg+xml;base64,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)"
      ]
    },
    {
      "cell_type": "markdown",
      "metadata": {
        "id": "HERZf1AJPcvb"
      },
      "source": [
        "## **Código fuente en Python**\n",
        "Puede ejecuar el codigo para probar el resultado."
      ]
    },
    {
      "cell_type": "code",
      "execution_count": null,
      "metadata": {
        "id": "vMnu5VycWtsl",
        "colab": {
          "base_uri": "https://localhost:8080/"
        },
        "outputId": "883b14b7-d7ac-41fc-f5ce-0871d052ad63"
      },
      "outputs": [
        {
          "output_type": "stream",
          "name": "stdout",
          "text": [
            "Ingrese la fecha DDMMAAAA\n",
            "10091998\n",
            "La fecha ingresada es : 10/9/1998\n"
          ]
        }
      ],
      "source": [
        "print(\"Ingrese la fecha DDMMAAAA\")\n",
        "fecha = int(input())\n",
        "dia = int (fecha / 1000000)\n",
        "mes = int (fecha / 10000) % 100\n",
        "gestion = fecha % 10000\n",
        "print(\"La fecha ingresada es : \" + str(dia) + \"/\" + str(mes) + \"/\" + str(gestion))"
      ]
    },
    {
      "cell_type": "markdown",
      "metadata": {
        "id": "p9YWyB5bPcvd"
      },
      "source": [
        "## **Salida**\n",
        "```python \n",
        "\n",
        "```"
      ]
    }
  ],
  "metadata": {
    "colab": {
      "provenance": [],
      "include_colab_link": true
    },
    "kernelspec": {
      "display_name": "Python 3",
      "language": "python",
      "name": "python3"
    },
    "language_info": {
      "codemirror_mode": {
        "name": "ipython",
        "version": 3
      },
      "file_extension": ".py",
      "mimetype": "text/x-python",
      "name": "python",
      "nbconvert_exporter": "python",
      "pygments_lexer": "ipython3",
      "version": "3.10.1"
    },
    "vscode": {
      "interpreter": {
        "hash": "413c54d42d867d78bc5693b88112002b4b75f03abc9fed1665b973f73c05d110"
      }
    }
  },
  "nbformat": 4,
  "nbformat_minor": 0
}